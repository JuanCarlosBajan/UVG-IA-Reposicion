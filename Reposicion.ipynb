{
 "cells": [
  {
   "cell_type": "code",
   "execution_count": 1,
   "id": "6e89877c",
   "metadata": {},
   "outputs": [],
   "source": [
    "import numpy as np\n",
    "import pandas as pd\n",
    "from sklearn.linear_model import LogisticRegression"
   ]
  },
  {
   "cell_type": "markdown",
   "id": "c9c55204",
   "metadata": {},
   "source": [
    "# GETTING THE DATA"
   ]
  },
  {
   "cell_type": "code",
   "execution_count": 2,
   "id": "c26444b0",
   "metadata": {},
   "outputs": [],
   "source": [
    "df = pd.read_csv(\"framingham.csv\", low_memory=False)\n",
    "\n",
    "y= df['TenYearCHD']\n",
    "X = df.drop('TenYearCHD', axis=1)\n",
    "X = X.drop('education', axis=1)"
   ]
  },
  {
   "cell_type": "code",
   "execution_count": 3,
   "id": "b5b6e4ca",
   "metadata": {},
   "outputs": [],
   "source": [
    "from sklearn.model_selection import train_test_split\n",
    "X_train, X_test, y_train, y_test = train_test_split(X, y, test_size=0.2, random_state=0)"
   ]
  },
  {
   "cell_type": "markdown",
   "id": "ae584917",
   "metadata": {},
   "source": [
    "# LOGISTIC POLINOMIAL REGRESSION"
   ]
  },
  {
   "cell_type": "code",
   "execution_count": 7,
   "id": "4b83fe91",
   "metadata": {},
   "outputs": [
    {
     "name": "stderr",
     "output_type": "stream",
     "text": [
      "c:\\users\\juanc\\appdata\\local\\programs\\python\\python38\\lib\\site-packages\\sklearn\\linear_model\\_logistic.py:458: ConvergenceWarning: lbfgs failed to converge (status=1):\n",
      "STOP: TOTAL NO. of ITERATIONS REACHED LIMIT.\n",
      "\n",
      "Increase the number of iterations (max_iter) or scale the data as shown in:\n",
      "    https://scikit-learn.org/stable/modules/preprocessing.html\n",
      "Please also refer to the documentation for alternative solver options:\n",
      "    https://scikit-learn.org/stable/modules/linear_model.html#logistic-regression\n",
      "  n_iter_i = _check_optimize_result(\n",
      "c:\\users\\juanc\\appdata\\local\\programs\\python\\python38\\lib\\site-packages\\sklearn\\linear_model\\_logistic.py:458: ConvergenceWarning: lbfgs failed to converge (status=1):\n",
      "STOP: TOTAL NO. of ITERATIONS REACHED LIMIT.\n",
      "\n",
      "Increase the number of iterations (max_iter) or scale the data as shown in:\n",
      "    https://scikit-learn.org/stable/modules/preprocessing.html\n",
      "Please also refer to the documentation for alternative solver options:\n",
      "    https://scikit-learn.org/stable/modules/linear_model.html#logistic-regression\n",
      "  n_iter_i = _check_optimize_result(\n",
      "c:\\users\\juanc\\appdata\\local\\programs\\python\\python38\\lib\\site-packages\\sklearn\\linear_model\\_logistic.py:458: ConvergenceWarning: lbfgs failed to converge (status=1):\n",
      "STOP: TOTAL NO. of ITERATIONS REACHED LIMIT.\n",
      "\n",
      "Increase the number of iterations (max_iter) or scale the data as shown in:\n",
      "    https://scikit-learn.org/stable/modules/preprocessing.html\n",
      "Please also refer to the documentation for alternative solver options:\n",
      "    https://scikit-learn.org/stable/modules/linear_model.html#logistic-regression\n",
      "  n_iter_i = _check_optimize_result(\n"
     ]
    }
   ],
   "source": [
    "from sklearn.linear_model import LogisticRegression\n",
    "from sklearn.preprocessing import PolynomialFeatures\n",
    "from sklearn.pipeline import make_pipeline\n",
    "\n",
    "accuracys = []\n",
    "\n",
    "for degree in range(1,5):\n",
    "    lr_model = make_pipeline(\n",
    "        PolynomialFeatures(degree),\n",
    "        LogisticRegression(solver='lbfgs', max_iter=5000)\n",
    "    )\n",
    "\n",
    "    # Entrenar el modelo con los datos de entrenamiento\n",
    "    lr_model.fit(X_train_imputed, y_train)\n",
    "    y_pred = lr_model.predict(X_test_imputed)\n",
    "    accuracys.append(accuracy_score(y_test, y_pred))"
   ]
  },
  {
   "cell_type": "code",
   "execution_count": 12,
   "id": "de50e927",
   "metadata": {},
   "outputs": [
    {
     "name": "stdout",
     "output_type": "stream",
     "text": [
      "best degree found: 2\n",
      "accuracy of degree: 0.8455188679245284\n"
     ]
    }
   ],
   "source": [
    "biggest= 0\n",
    "indx = -1\n",
    "for i in range(0,len(accuracys)):\n",
    "    if accuracys[i] > biggest:\n",
    "        biggest = accuracys[i]\n",
    "        indx = i\n",
    "print(\"best degree found: \" + str(indx+1))\n",
    "print(\"accuracy of degree: \" + str(biggest))"
   ]
  },
  {
   "cell_type": "markdown",
   "id": "6d74d9bc",
   "metadata": {},
   "source": [
    "# GRADIENT DESCENT"
   ]
  },
  {
   "cell_type": "code",
   "execution_count": 4,
   "id": "d50c7abb",
   "metadata": {},
   "outputs": [],
   "source": [
    "from sklearn.impute import SimpleImputer\n",
    "\n",
    "# Crea un objeto SimpleImputer que reemplaza los valores faltantes con la media\n",
    "imputer = SimpleImputer(strategy='mean')\n",
    "\n",
    "# Ajusta el imputer a los datos de entrenamiento y transforma los datos de entrenamiento\n",
    "X_train_imputed = imputer.fit_transform(X_train)\n",
    "\n",
    "# Usa el mismo imputer para transformar los datos de prueba\n",
    "X_test_imputed = imputer.transform(X_test)"
   ]
  },
  {
   "cell_type": "code",
   "execution_count": 5,
   "id": "290f70dd",
   "metadata": {},
   "outputs": [],
   "source": [
    "lr = LogisticRegression(solver='sag', max_iter=10000)\n",
    "lr.fit(X_train_imputed, y_train)\n",
    "y_pred = lr.predict(X_test_imputed)\n"
   ]
  },
  {
   "cell_type": "code",
   "execution_count": 6,
   "id": "1dae4e2f",
   "metadata": {},
   "outputs": [
    {
     "data": {
      "text/plain": [
       "0.8408018867924528"
      ]
     },
     "execution_count": 6,
     "metadata": {},
     "output_type": "execute_result"
    }
   ],
   "source": [
    "from sklearn.metrics import confusion_matrix, accuracy_score, precision_score, recall_score\n",
    "confusion_matrix(y_test, y_pred)\n",
    "accuracy_score(y_test, y_pred)\n",
    "#precision_score(y_test, y_pred)\n",
    "#recall_score(y_test, y_pred)"
   ]
  },
  {
   "cell_type": "markdown",
   "id": "b2f7ebae",
   "metadata": {},
   "source": [
    "# CROSS VALIDATION"
   ]
  },
  {
   "cell_type": "code",
   "execution_count": 15,
   "id": "07a11117",
   "metadata": {},
   "outputs": [
    {
     "name": "stdout",
     "output_type": "stream",
     "text": [
      "Accuracy: 0.86 (+/- 0.01)\n"
     ]
    }
   ],
   "source": [
    "from sklearn.linear_model import LogisticRegression\n",
    "from sklearn.model_selection import cross_val_score\n",
    "\n",
    "\n",
    "# Crear una instancia del modelo de regresión logística\n",
    "lr_model = LogisticRegression(solver='lbfgs',  max_iter= 5000)\n",
    "\n",
    "# Realizar la validación cruzada con 5 particiones\n",
    "scores = cross_val_score(lr_model, X_train_imputed, y_train, cv=5)\n",
    "\n",
    "# Imprimir los resultados de la validación cruzada\n",
    "print('Accuracy: %0.2f (+/- %0.2f)' % (scores.mean(), scores.std() * 2))"
   ]
  },
  {
   "cell_type": "markdown",
   "id": "545bebd3",
   "metadata": {},
   "source": [
    "# HALLAZGOS"
   ]
  },
  {
   "cell_type": "markdown",
   "id": "7a42f382",
   "metadata": {},
   "source": [
    "Luego de haber realizado varios modelos encontramos que el mejor modelo es utilizar el regresión logística con un gradiente de 2. Con el cual llegamos a un 84% de acertación. Sin embargo, cabe resaltar, que debido a los pocos datos que encontramos de casos positivos, la cantidad de casos negativos pero que son realmente positivos es alta, por lo que se recomienda implementar métodos para nivelar la información o quizas intentar otro modelo que nos permita aumentar la cantidad de verdaderos positivos, pues al final es lo más imn"
   ]
  }
 ],
 "metadata": {
  "kernelspec": {
   "display_name": "Python 3 (ipykernel)",
   "language": "python",
   "name": "python3"
  },
  "language_info": {
   "codemirror_mode": {
    "name": "ipython",
    "version": 3
   },
   "file_extension": ".py",
   "mimetype": "text/x-python",
   "name": "python",
   "nbconvert_exporter": "python",
   "pygments_lexer": "ipython3",
   "version": "3.8.8"
  }
 },
 "nbformat": 4,
 "nbformat_minor": 5
}
